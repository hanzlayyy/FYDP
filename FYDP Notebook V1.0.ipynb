{
 "cells": [
  {
   "cell_type": "code",
   "execution_count": 133,
   "id": "167d55c7",
   "metadata": {},
   "outputs": [],
   "source": [
    "import pandas as pd\n",
    "import numpy as np\n",
    "from sklearn.impute import KNNImputer\n",
    "from sklearn.preprocessing import OneHotEncoder"
   ]
  },
  {
   "cell_type": "code",
   "execution_count": 134,
   "id": "fdc33757",
   "metadata": {},
   "outputs": [],
   "source": [
    "df = pd.read_csv('data v1.csv')"
   ]
  },
  {
   "cell_type": "code",
   "execution_count": 151,
   "id": "01443d18",
   "metadata": {},
   "outputs": [],
   "source": [
    "df=df.drop(403, axis=0)"
   ]
  },
  {
   "cell_type": "code",
   "execution_count": 155,
   "id": "6b027d28",
   "metadata": {},
   "outputs": [
    {
     "data": {
      "text/plain": [
       "0    0.0\n",
       "1    0.0\n",
       "2    0.0\n",
       "3    0.0\n",
       "4    0.0\n",
       "dtype: float64"
      ]
     },
     "execution_count": 155,
     "metadata": {},
     "output_type": "execute_result"
    }
   ],
   "source": [
    "from fancyimpute import IterativeImputer\n",
    "imputer =  IterativeImputer()\n",
    "df1 = imputer.fit_transform(df.drop(['infill_pattern', 'material'], axis=1))\n",
    "df2 = pd.DataFrame(df1)\n",
    "df2.isnull().mean()"
   ]
  },
  {
   "cell_type": "code",
   "execution_count": 119,
   "id": "d528eff1",
   "metadata": {},
   "outputs": [
    {
     "data": {
      "text/plain": [
       "array(['grid', 'honeycomb', 'tetrahedral', nan, 'zigzag', 'triangle',\n",
       "       'concentric', 'line', 'solid', 'rectilinear'], dtype=object)"
      ]
     },
     "execution_count": 119,
     "metadata": {},
     "output_type": "execute_result"
    }
   ],
   "source": [
    "classes = df['infill_pattern'].unique()\n",
    "classes"
   ]
  },
  {
   "cell_type": "code",
   "execution_count": 5,
   "id": "dcd536d4",
   "metadata": {},
   "outputs": [
    {
     "data": {
      "text/plain": [
       "layer_height          0.000000\n",
       "infill_density        0.165756\n",
       "infill_pattern        0.444444\n",
       "nozzle_temperature    0.000000\n",
       "print_speed           0.049180\n",
       "material              0.049180\n",
       "roughness             0.107468\n",
       "dtype: float64"
      ]
     },
     "execution_count": 5,
     "metadata": {},
     "output_type": "execute_result"
    }
   ],
   "source": [
    "df.isnull().mean()"
   ]
  },
  {
   "cell_type": "code",
   "execution_count": 106,
   "id": "ecf8a9b3",
   "metadata": {},
   "outputs": [],
   "source": [
    "df = df.replace('line ', 'line')"
   ]
  },
  {
   "cell_type": "code",
   "execution_count": 107,
   "id": "e0dc21d3",
   "metadata": {},
   "outputs": [],
   "source": [
    "missing = df[df.isnull().any(axis=1)]"
   ]
  },
  {
   "cell_type": "code",
   "execution_count": 108,
   "id": "95006502",
   "metadata": {},
   "outputs": [],
   "source": [
    "zero_missing = df[~df.isnull().any(axis=1)]"
   ]
  },
  {
   "cell_type": "code",
   "execution_count": 109,
   "id": "ad21e7a6",
   "metadata": {},
   "outputs": [],
   "source": [
    "one_missing_infill_density = missing[missing['infill_density'].isnull() & ~missing[['infill_pattern','print_speed','material','roughness']].isnull().any(axis=1)] \n"
   ]
  },
  {
   "cell_type": "code",
   "execution_count": 110,
   "id": "d217d4bf",
   "metadata": {},
   "outputs": [],
   "source": [
    "one_missing_infill_pattern = missing[missing['infill_pattern'].isnull() & ~missing[['infill_density','print_speed','material','roughness']].isnull().any(axis=1)] \n"
   ]
  },
  {
   "cell_type": "code",
   "execution_count": 111,
   "id": "dae8fecb",
   "metadata": {},
   "outputs": [],
   "source": [
    "one_missing_print_speed = missing[missing['print_speed'].isnull() & ~missing[['infill_density','infill_pattern','material','roughness']].isnull().any(axis=1)] \n"
   ]
  },
  {
   "cell_type": "code",
   "execution_count": 112,
   "id": "5b524530",
   "metadata": {},
   "outputs": [],
   "source": [
    "one_missing_material = missing[missing['material'].isnull() & ~missing[['infill_density','infill_pattern','print_speed','roughness']].isnull().any(axis=1)] \n"
   ]
  },
  {
   "cell_type": "code",
   "execution_count": 113,
   "id": "f8361e19",
   "metadata": {},
   "outputs": [],
   "source": [
    "one_missing_roughness = missing[missing['roughness'].isnull() & ~missing[['infill_density','infill_pattern','print_speed','material']].isnull().any(axis=1)] \n"
   ]
  },
  {
   "cell_type": "code",
   "execution_count": 114,
   "id": "24003c99",
   "metadata": {},
   "outputs": [],
   "source": [
    "combined1 = pd.concat([zero_missing, one_missing_infill_density], axis=0)"
   ]
  },
  {
   "cell_type": "code",
   "execution_count": 115,
   "id": "1b40270d",
   "metadata": {},
   "outputs": [],
   "source": [
    "ohe = OneHotEncoder(drop='first',dtype=np.int32)"
   ]
  },
  {
   "cell_type": "code",
   "execution_count": 125,
   "id": "15953420",
   "metadata": {},
   "outputs": [],
   "source": [
    "X = ohe.fit_transform(zero_missing[['infill_pattern']]).toarray()"
   ]
  },
  {
   "cell_type": "code",
   "execution_count": 127,
   "id": "e33d9238",
   "metadata": {},
   "outputs": [
    {
     "data": {
      "text/plain": [
       "(254, 7)"
      ]
     },
     "execution_count": 127,
     "metadata": {},
     "output_type": "execute_result"
    }
   ],
   "source": []
  },
  {
   "cell_type": "code",
   "execution_count": null,
   "id": "95f5cfb8",
   "metadata": {},
   "outputs": [],
   "source": []
  },
  {
   "cell_type": "code",
   "execution_count": null,
   "id": "c0660c07",
   "metadata": {},
   "outputs": [],
   "source": []
  }
 ],
 "metadata": {
  "kernelspec": {
   "display_name": "Python 3 (ipykernel)",
   "language": "python",
   "name": "python3"
  },
  "language_info": {
   "codemirror_mode": {
    "name": "ipython",
    "version": 3
   },
   "file_extension": ".py",
   "mimetype": "text/x-python",
   "name": "python",
   "nbconvert_exporter": "python",
   "pygments_lexer": "ipython3",
   "version": "3.11.5"
  }
 },
 "nbformat": 4,
 "nbformat_minor": 5
}
